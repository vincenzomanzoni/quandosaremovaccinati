{
  "nbformat": 4,
  "nbformat_minor": 0,
  "metadata": {
    "colab": {
      "name": "01 - Quando Saremo Vaccinati - Modello Italia.ipynb",
      "provenance": [],
      "collapsed_sections": [],
      "toc_visible": true,
      "authorship_tag": "ABX9TyNnPYZRCANxrawJ2n0iGEiV",
      "include_colab_link": true
    },
    "kernelspec": {
      "name": "python3",
      "display_name": "Python 3"
    }
  },
  "cells": [
    {
      "cell_type": "markdown",
      "metadata": {
        "id": "view-in-github",
        "colab_type": "text"
      },
      "source": [
        "<a href=\"https://colab.research.google.com/github/vincenzomanzoni/quandosaremovaccinati/blob/main/01_Quando_Saremo_Vaccinati_Modello_Italia.ipynb\" target=\"_parent\"><img src=\"https://colab.research.google.com/assets/colab-badge.svg\" alt=\"Open In Colab\"/></a>"
      ]
    },
    {
      "cell_type": "markdown",
      "metadata": {
        "id": "_6QGWMPycrDG"
      },
      "source": [
        "# Quando Saremo Vaccinati"
      ]
    },
    {
      "cell_type": "markdown",
      "metadata": {
        "id": "fRcNne5RjYc-"
      },
      "source": [
        "Il codice è volutamente non ottimizzato all'estremo per mantenere una buona leggibilità anche per i lettori non esperti in Python. Si è scelto di usare l'inglese per il nome delle variabili e delle costanti, ma di mantenere l'italiano per il nome delle colonne del dataset."
      ]
    },
    {
      "cell_type": "markdown",
      "metadata": {
        "id": "5OBQMFXGhanN"
      },
      "source": [
        "## Import delle librerie"
      ]
    },
    {
      "cell_type": "code",
      "metadata": {
        "id": "neO2JPkxxVqn"
      },
      "source": [
        "import pandas as pd\n",
        "import datetime\n",
        "import json, requests\n",
        "\n",
        "from dateutil.parser import parse\n",
        "from babel.dates import format_date, format_datetime, format_time"
      ],
      "execution_count": 1,
      "outputs": []
    },
    {
      "cell_type": "markdown",
      "metadata": {
        "id": "3eqzf-YehkGK"
      },
      "source": [
        "## Costanti"
      ]
    },
    {
      "cell_type": "code",
      "metadata": {
        "id": "gVMV8csmxaPq"
      },
      "source": [
        "INPUT_FILE = \"https://raw.githubusercontent.com/italia/covid19-opendata-vaccini/master/dati/somministrazioni-vaccini-summary-latest.json\"\n",
        "LAST_UPDATE = \"https://raw.githubusercontent.com/italia/covid19-opendata-vaccini/master/dati/last-update-dataset.json\"\n",
        "ITALIAN_POPULATION = 59641488 # da http://dati.istat.it/Index.aspx?QueryId=18460\n",
        "PERCENTAGE_FOR_HERD_IMMUNITY = 0.70\n",
        "DOSES_PER_DAY_ITALIAN_TARGET = 500000"
      ],
      "execution_count": 2,
      "outputs": []
    },
    {
      "cell_type": "markdown",
      "metadata": {
        "id": "rbyKYqAihmzc"
      },
      "source": [
        "## Caricamento dati e pre-processing"
      ]
    },
    {
      "cell_type": "code",
      "metadata": {
        "id": "po6QaiKzyULd",
        "colab": {
          "base_uri": "https://localhost:8080/",
          "height": 188
        },
        "outputId": "9c9f0d6f-3c04-4246-8052-2ef8aa87c3b8"
      },
      "source": [
        "df = pd.read_json(INPUT_FILE, orient=\"table\").set_index(\"data_somministrazione\")\n",
        "df.sample(3)"
      ],
      "execution_count": 3,
      "outputs": [
        {
          "output_type": "execute_result",
          "data": {
            "text/html": [
              "<div>\n",
              "<style scoped>\n",
              "    .dataframe tbody tr th:only-of-type {\n",
              "        vertical-align: middle;\n",
              "    }\n",
              "\n",
              "    .dataframe tbody tr th {\n",
              "        vertical-align: top;\n",
              "    }\n",
              "\n",
              "    .dataframe thead th {\n",
              "        text-align: right;\n",
              "    }\n",
              "</style>\n",
              "<table border=\"1\" class=\"dataframe\">\n",
              "  <thead>\n",
              "    <tr style=\"text-align: right;\">\n",
              "      <th></th>\n",
              "      <th>area</th>\n",
              "      <th>totale</th>\n",
              "      <th>sesso_maschile</th>\n",
              "      <th>sesso_femminile</th>\n",
              "      <th>categoria_operatori_sanitari_sociosanitari</th>\n",
              "      <th>categoria_personale_non_sanitario</th>\n",
              "      <th>categoria_altro</th>\n",
              "      <th>categoria_ospiti_rsa</th>\n",
              "      <th>categoria_over80</th>\n",
              "      <th>categoria_forze_armate</th>\n",
              "      <th>categoria_personale_scolastico</th>\n",
              "      <th>prima_dose</th>\n",
              "      <th>seconda_dose</th>\n",
              "      <th>codice_NUTS1</th>\n",
              "      <th>codice_NUTS2</th>\n",
              "      <th>codice_regione_ISTAT</th>\n",
              "      <th>nome_area</th>\n",
              "    </tr>\n",
              "    <tr>\n",
              "      <th>data_somministrazione</th>\n",
              "      <th></th>\n",
              "      <th></th>\n",
              "      <th></th>\n",
              "      <th></th>\n",
              "      <th></th>\n",
              "      <th></th>\n",
              "      <th></th>\n",
              "      <th></th>\n",
              "      <th></th>\n",
              "      <th></th>\n",
              "      <th></th>\n",
              "      <th></th>\n",
              "      <th></th>\n",
              "      <th></th>\n",
              "      <th></th>\n",
              "      <th></th>\n",
              "      <th></th>\n",
              "    </tr>\n",
              "  </thead>\n",
              "  <tbody>\n",
              "    <tr>\n",
              "      <th>2021-03-24</th>\n",
              "      <td>MAR</td>\n",
              "      <td>7036</td>\n",
              "      <td>2982</td>\n",
              "      <td>4054</td>\n",
              "      <td>484</td>\n",
              "      <td>20</td>\n",
              "      <td>961</td>\n",
              "      <td>187</td>\n",
              "      <td>4728</td>\n",
              "      <td>64</td>\n",
              "      <td>592</td>\n",
              "      <td>3367</td>\n",
              "      <td>3669</td>\n",
              "      <td>ITI</td>\n",
              "      <td>ITI3</td>\n",
              "      <td>11</td>\n",
              "      <td>Marche</td>\n",
              "    </tr>\n",
              "    <tr>\n",
              "      <th>2021-02-03</th>\n",
              "      <td>PUG</td>\n",
              "      <td>5031</td>\n",
              "      <td>2002</td>\n",
              "      <td>3029</td>\n",
              "      <td>4366</td>\n",
              "      <td>469</td>\n",
              "      <td>9</td>\n",
              "      <td>184</td>\n",
              "      <td>0</td>\n",
              "      <td>0</td>\n",
              "      <td>3</td>\n",
              "      <td>730</td>\n",
              "      <td>4301</td>\n",
              "      <td>ITF</td>\n",
              "      <td>ITF4</td>\n",
              "      <td>16</td>\n",
              "      <td>Puglia</td>\n",
              "    </tr>\n",
              "    <tr>\n",
              "      <th>2021-03-26</th>\n",
              "      <td>LIG</td>\n",
              "      <td>9094</td>\n",
              "      <td>3843</td>\n",
              "      <td>5251</td>\n",
              "      <td>602</td>\n",
              "      <td>182</td>\n",
              "      <td>2751</td>\n",
              "      <td>65</td>\n",
              "      <td>3881</td>\n",
              "      <td>316</td>\n",
              "      <td>1297</td>\n",
              "      <td>5940</td>\n",
              "      <td>3154</td>\n",
              "      <td>ITC</td>\n",
              "      <td>ITC3</td>\n",
              "      <td>7</td>\n",
              "      <td>Liguria</td>\n",
              "    </tr>\n",
              "  </tbody>\n",
              "</table>\n",
              "</div>"
            ],
            "text/plain": [
              "                      area  totale  ...  codice_regione_ISTAT  nome_area\n",
              "data_somministrazione               ...                                 \n",
              "2021-03-24             MAR    7036  ...                    11     Marche\n",
              "2021-02-03             PUG    5031  ...                    16     Puglia\n",
              "2021-03-26             LIG    9094  ...                     7    Liguria\n",
              "\n",
              "[3 rows x 17 columns]"
            ]
          },
          "metadata": {
            "tags": []
          },
          "execution_count": 3
        }
      ]
    },
    {
      "cell_type": "code",
      "metadata": {
        "id": "Mm4FPZsa0yYO",
        "colab": {
          "base_uri": "https://localhost:8080/"
        },
        "outputId": "79e9ad5f-cff1-4cec-a553-fed561c2a4b0"
      },
      "source": [
        "last_update_json = json.loads(requests.get(LAST_UPDATE).text)\n",
        "last_update = parse(last_update_json[\"ultimo_aggiornamento\"])\n",
        "print(\"Ultimo aggiornamento:\", format_datetime(last_update, format=\"long\", locale=\"it\"))"
      ],
      "execution_count": 4,
      "outputs": [
        {
          "output_type": "stream",
          "text": [
            "Ultimo aggiornamento: 18 aprile 2021 18:51:10 UTC\n"
          ],
          "name": "stdout"
        }
      ]
    },
    {
      "cell_type": "markdown",
      "metadata": {
        "id": "BZtzHtpbhzKh"
      },
      "source": [
        "Come si vede, ogni riga del dataset corrisponde a una data e una regione. Il dataset viene raggruppato per data di somministazione per avere il dato nazionale per giorno. Per ogni giorno vengono quindi sommati il numero delle prime dosi (`prima_dose`) e il numero di seconde dosi (`seconda_dose`)."
      ]
    },
    {
      "cell_type": "code",
      "metadata": {
        "colab": {
          "base_uri": "https://localhost:8080/",
          "height": 168
        },
        "id": "CN4viP-8hXHi",
        "outputId": "4c9f5586-a0b5-449a-95cb-9a4c5e2f0c31"
      },
      "source": [
        "df_italy = df.groupby(\"data_somministrazione\") \\\n",
        "  .sum()[['prima_dose', 'seconda_dose']] \\\n",
        "  .copy()\n",
        "df_italy.sample(3)"
      ],
      "execution_count": 5,
      "outputs": [
        {
          "output_type": "execute_result",
          "data": {
            "text/html": [
              "<div>\n",
              "<style scoped>\n",
              "    .dataframe tbody tr th:only-of-type {\n",
              "        vertical-align: middle;\n",
              "    }\n",
              "\n",
              "    .dataframe tbody tr th {\n",
              "        vertical-align: top;\n",
              "    }\n",
              "\n",
              "    .dataframe thead th {\n",
              "        text-align: right;\n",
              "    }\n",
              "</style>\n",
              "<table border=\"1\" class=\"dataframe\">\n",
              "  <thead>\n",
              "    <tr style=\"text-align: right;\">\n",
              "      <th></th>\n",
              "      <th>prima_dose</th>\n",
              "      <th>seconda_dose</th>\n",
              "    </tr>\n",
              "    <tr>\n",
              "      <th>data_somministrazione</th>\n",
              "      <th></th>\n",
              "      <th></th>\n",
              "    </tr>\n",
              "  </thead>\n",
              "  <tbody>\n",
              "    <tr>\n",
              "      <th>2021-03-13</th>\n",
              "      <td>127097</td>\n",
              "      <td>48242</td>\n",
              "    </tr>\n",
              "    <tr>\n",
              "      <th>2021-02-10</th>\n",
              "      <td>44922</td>\n",
              "      <td>27270</td>\n",
              "    </tr>\n",
              "    <tr>\n",
              "      <th>2021-01-26</th>\n",
              "      <td>4073</td>\n",
              "      <td>75800</td>\n",
              "    </tr>\n",
              "  </tbody>\n",
              "</table>\n",
              "</div>"
            ],
            "text/plain": [
              "                       prima_dose  seconda_dose\n",
              "data_somministrazione                          \n",
              "2021-03-13                 127097         48242\n",
              "2021-02-10                  44922         27270\n",
              "2021-01-26                   4073         75800"
            ]
          },
          "metadata": {
            "tags": []
          },
          "execution_count": 5
        }
      ]
    },
    {
      "cell_type": "markdown",
      "metadata": {
        "id": "R2V8lpMpiNpo"
      },
      "source": [
        "Sul dataset con i dati giornalieri nazionali vengono calcolati, per ogni giorno:\n",
        "\n",
        "*   `prima_dose_rm7`: media delle prime dosi somministrate negli ultimi 7 giorni.\n",
        "*   `prima_dose_cs`: somma delle prime dosi somministrate fino a quel giorno.\n",
        "*   `seconda_dose_rm7`: media delle seconde dosi somministrate negli ultimi 7 giorni.\n",
        "*   `seconda_dose_cs`: somma delle seconde dosi somministrate fino a quel giorno."
      ]
    },
    {
      "cell_type": "code",
      "metadata": {
        "id": "D4siW5bm1AFi"
      },
      "source": [
        "df_italy[\"prima_dose_rm7\"] = df_italy.rolling(7).prima_dose.mean()\n",
        "df_italy['prima_dose_cs']  = df_italy.prima_dose.cumsum()\n",
        "\n",
        "df_italy[\"seconda_dose_rm7\"] = df_italy.rolling(7).seconda_dose.mean()\n",
        "df_italy['seconda_dose_cs']  = df_italy.seconda_dose.cumsum()"
      ],
      "execution_count": 6,
      "outputs": []
    },
    {
      "cell_type": "code",
      "metadata": {
        "colab": {
          "base_uri": "https://localhost:8080/",
          "height": 188
        },
        "id": "idI7SXKC0PDR",
        "outputId": "b7536704-d64f-42cd-8f26-74d33bfd2820"
      },
      "source": [
        "df_italy.tail(3)"
      ],
      "execution_count": 7,
      "outputs": [
        {
          "output_type": "execute_result",
          "data": {
            "text/html": [
              "<div>\n",
              "<style scoped>\n",
              "    .dataframe tbody tr th:only-of-type {\n",
              "        vertical-align: middle;\n",
              "    }\n",
              "\n",
              "    .dataframe tbody tr th {\n",
              "        vertical-align: top;\n",
              "    }\n",
              "\n",
              "    .dataframe thead th {\n",
              "        text-align: right;\n",
              "    }\n",
              "</style>\n",
              "<table border=\"1\" class=\"dataframe\">\n",
              "  <thead>\n",
              "    <tr style=\"text-align: right;\">\n",
              "      <th></th>\n",
              "      <th>prima_dose</th>\n",
              "      <th>seconda_dose</th>\n",
              "      <th>prima_dose_rm7</th>\n",
              "      <th>prima_dose_cs</th>\n",
              "      <th>seconda_dose_rm7</th>\n",
              "      <th>seconda_dose_cs</th>\n",
              "    </tr>\n",
              "    <tr>\n",
              "      <th>data_somministrazione</th>\n",
              "      <th></th>\n",
              "      <th></th>\n",
              "      <th></th>\n",
              "      <th></th>\n",
              "      <th></th>\n",
              "      <th></th>\n",
              "    </tr>\n",
              "  </thead>\n",
              "  <tbody>\n",
              "    <tr>\n",
              "      <th>2021-04-16</th>\n",
              "      <td>266692</td>\n",
              "      <td>94304</td>\n",
              "      <td>222305.285714</td>\n",
              "      <td>10333999</td>\n",
              "      <td>71707.428571</td>\n",
              "      <td>4337386</td>\n",
              "    </tr>\n",
              "    <tr>\n",
              "      <th>2021-04-17</th>\n",
              "      <td>259385</td>\n",
              "      <td>78726</td>\n",
              "      <td>224371.714286</td>\n",
              "      <td>10593384</td>\n",
              "      <td>73277.000000</td>\n",
              "      <td>4416112</td>\n",
              "    </tr>\n",
              "    <tr>\n",
              "      <th>2021-04-18</th>\n",
              "      <td>116813</td>\n",
              "      <td>41967</td>\n",
              "      <td>218559.571429</td>\n",
              "      <td>10710197</td>\n",
              "      <td>73420.142857</td>\n",
              "      <td>4458079</td>\n",
              "    </tr>\n",
              "  </tbody>\n",
              "</table>\n",
              "</div>"
            ],
            "text/plain": [
              "                       prima_dose  ...  seconda_dose_cs\n",
              "data_somministrazione              ...                 \n",
              "2021-04-16                 266692  ...          4337386\n",
              "2021-04-17                 259385  ...          4416112\n",
              "2021-04-18                 116813  ...          4458079\n",
              "\n",
              "[3 rows x 6 columns]"
            ]
          },
          "metadata": {
            "tags": []
          },
          "execution_count": 7
        }
      ]
    },
    {
      "cell_type": "code",
      "metadata": {
        "id": "1Gq91p6CwQFN"
      },
      "source": [
        "last_value_date = df_italy.tail(1).index[0].to_pydatetime()\n",
        "if (last_value_date.year == last_update.year) \\\n",
        "    and (last_value_date.month == last_update.month) \\\n",
        "    and (last_value_date.day == last_update.day):\n",
        "  simulation_day = df_italy.tail(2).head(1)\n",
        "else:\n",
        "  simulation_day = df_italy.tail(1)"
      ],
      "execution_count": 8,
      "outputs": []
    },
    {
      "cell_type": "code",
      "metadata": {
        "id": "8et5GmZN7Mt7"
      },
      "source": [
        "first_dose_cs = simulation_day['prima_dose_cs'][0]\n",
        "first_dose_rm7 = simulation_day['prima_dose_rm7'][0]\n",
        "\n",
        "second_dose_cs = simulation_day['seconda_dose_cs'][0]\n",
        "second_dose_rm7 = simulation_day['seconda_dose_rm7'][0]\n",
        "\n",
        "days_to_partial_herd_immunity = round(\n",
        "      (ITALIAN_POPULATION * PERCENTAGE_FOR_HERD_IMMUNITY - first_dose_cs) \n",
        "      / first_dose_rm7\n",
        "    )\n",
        "day_of_partial_herd_immunity = simulation_day.index[0] + \\\n",
        "  datetime.timedelta(days=days_to_partial_herd_immunity)\n",
        "\n",
        "days_to_complete_herd_immunity = round(\n",
        "        (ITALIAN_POPULATION * PERCENTAGE_FOR_HERD_IMMUNITY - second_dose_cs) \n",
        "        / second_dose_rm7\n",
        "      )\n",
        "day_of_complete_herd_immunity = simulation_day.index[0] + \\\n",
        "  datetime.timedelta(days=days_to_complete_herd_immunity)"
      ],
      "execution_count": 9,
      "outputs": []
    },
    {
      "cell_type": "code",
      "metadata": {
        "colab": {
          "base_uri": "https://localhost:8080/"
        },
        "id": "Zbg7Kb-5uNvu",
        "outputId": "43ca39df-c1c9-4db5-b097-0a1d62107e79"
      },
      "source": [
        "print(\"Prime dosi   - Giorni al 70%:\", days_to_partial_herd_immunity)\n",
        "print(\"Prime dosi   - Giorno al 70%:\", format_date(day_of_partial_herd_immunity, format=\"long\", locale=\"it\"))\n",
        "print()\n",
        "print(\"Seconde dosi - Giorni al 70%:\", days_to_complete_herd_immunity)\n",
        "print(\"Seconde dosi - Giorno al 70%:\", format_date(day_of_complete_herd_immunity, format=\"long\", locale=\"it\"))\n",
        "print()\n",
        "print(\"Giorno di simulazione:       \", format_date(simulation_day.index[0], format=\"long\", locale=\"it\"))\n",
        "print(\"Ultimo aggiornamento:        \", format_datetime(last_update, format=\"long\", locale=\"it\"))"
      ],
      "execution_count": 10,
      "outputs": [
        {
          "output_type": "stream",
          "text": [
            "Prime dosi   - Giorni al 70%: 139\n",
            "Prime dosi   - Giorno al 70%: 3 settembre 2021\n",
            "\n",
            "Seconde dosi - Giorni al 70%: 509\n",
            "Seconde dosi - Giorno al 70%: 8 settembre 2022\n",
            "\n",
            "Giorno di simulazione:        17 aprile 2021\n",
            "Ultimo aggiornamento:         18 aprile 2021 18:51:10 UTC\n"
          ],
          "name": "stdout"
        }
      ]
    }
  ]
}